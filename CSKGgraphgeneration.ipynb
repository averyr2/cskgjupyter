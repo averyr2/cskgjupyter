{
 "cells": [
  {
   "cell_type": "code",
   "execution_count": null,
   "metadata": {},
   "outputs": [],
   "source": [
    "import snap"
   ]
  },
  {
   "cell_type": "code",
   "execution_count": null,
   "metadata": {},
   "outputs": [],
   "source": [
    "# Location of CSKG dataset. Change to your own local location.\n",
    "\n",
    "kgfile = \"/dfs/dataset/infolab/20200306-mowgli-cskg/data/20200708-cskg-WIP/cskg.tsv\""
   ]
  },
  {
   "cell_type": "code",
   "execution_count": null,
   "metadata": {},
   "outputs": [],
   "source": [
    "# Creating context and schema to import entire dataset into SNAP table.\n",
    "\n",
    "context = snap.TTableContext()\n",
    "schema = snap.Schema()\n",
    "schema.Add(snap.TStrTAttrPr(\"node1\", snap.atStr))\n",
    "schema.Add(snap.TStrTAttrPr(\"relation\", snap.atStr))\n",
    "schema.Add(snap.TStrTAttrPr(\"node2\", snap.atStr))\n",
    "schema.Add(snap.TStrTAttrPr(\"node1;label\", snap.atStr))\n",
    "schema.Add(snap.TStrTAttrPr(\"node2;label\", snap.atStr))\n",
    "schema.Add(snap.TStrTAttrPr(\"relation;label\", snap.atStr))\n",
    "schema.Add(snap.TStrTAttrPr(\"relation;dimension\", snap.atStr))\n",
    "schema.Add(snap.TStrTAttrPr(\"weight\", snap.atStr))\n",
    "schema.Add(snap.TStrTAttrPr(\"source\", snap.atStr))\n",
    "schema.Add(snap.TStrTAttrPr(\"origin\", snap.atStr))\n",
    "schema.Add(snap.TStrTAttrPr(\"sentence\", snap.atStr))\n",
    "schema.Add(snap.TStrTAttrPr(\"question\", snap.atStr))\n",
    "schema.Add(snap.TStrTAttrPr(\"id\", snap.atStr))\n",
    "\n",
    "kgtable = snap.TTable.LoadSS(schema, kgfile, context, \"\\t\", snap.TBool(True))"
   ]
  },
  {
   "cell_type": "code",
   "execution_count": null,
   "metadata": {},
   "outputs": [],
   "source": [
    "# Checking number of rows in the dataset. \n",
    "\n",
    "kgtable.GetNumRows()"
   ]
  },
  {
   "cell_type": "code",
   "execution_count": null,
   "metadata": {},
   "outputs": [],
   "source": [
    "# Creating a basic version of the graph using only node1 and node2.\n",
    "\n",
    "basickggraph = snap.ToGraph(snap.PNGraph, kgtable, \"node1\", \"node2\", snap.aaFirst)"
   ]
  },
  {
   "cell_type": "code",
   "execution_count": null,
   "metadata": {},
   "outputs": [],
   "source": [
    "# Printing information about the basic graph to file called basickggraph.txt in the current folder. \n",
    "\n",
    "snap.PrintInfo(basickggraph, \"Knowledge Graph PNGraph\", \"basickggraph.txt\", False)"
   ]
  },
  {
   "cell_type": "code",
   "execution_count": null,
   "metadata": {},
   "outputs": [],
   "source": [
    "# Pre-processing to create more complex graph by creating a new table with the nodes. \n",
    "\n",
    "node1 = snap.TStrV()\n",
    "node2 = snap.TStrV()\n",
    "node1label = snap.TStrV()\n",
    "node2label = snap.TStrV()\n",
    "kgtable.ReadStrCol(\"node1\", node1)\n",
    "kgtable.ReadStrCol(\"node2\", node2)\n",
    "kgtable.ReadStrCol(\"node1;label\", node1label)\n",
    "kgtable.ReadStrCol(\"node2;label\", node2label)\n",
    "for item in node2:\n",
    "    node1.Add(item)\n",
    "for item in node2label:\n",
    "    node1label.Add(item)\n",
    "\n",
    "nodetable = snap.TTable(context)\n",
    "\n",
    "nodetable.StoreStrCol(\"node\", node1)\n",
    "nodetable.StoreStrCol(\"nodelabel\", node1label)"
   ]
  },
  {
   "cell_type": "code",
   "execution_count": null,
   "metadata": {},
   "outputs": [],
   "source": [
    "# Create network including node and edge labels. \n",
    "\n",
    "edgeattrv = snap.TStrV()\n",
    "edgeattrv.Add(\"relation\")\n",
    "\n",
    "node1attrs = snap.TStrV()\n",
    "node1attrs.Add(\"node1;label\")\n",
    "node2attrs = snap.TStrV()\n",
    "node2attrs.Add(\"node2;label\")\n",
    "\n",
    "complexkggraph = snap.ToNetwork(snap.PNEANet, kgtable, \"node1\", \"node2\", node1attrs, node2attrs, edgeattrv, snap.aaFirst)\n"
   ]
  },
  {
   "cell_type": "code",
   "execution_count": null,
   "metadata": {},
   "outputs": [],
   "source": [
    "# Print information about complex graph to complexkggraph.txt, which will appear in current folder. \n",
    "\n",
    "snap.PrintInfo(complexkggraph, \"Knowledge Graph PNGraph\", \"complexkggraph.txt\", False)"
   ]
  }
 ],
 "metadata": {
  "kernelspec": {
   "display_name": "Python 3",
   "language": "python",
   "name": "python3"
  },
  "language_info": {
   "codemirror_mode": {
    "name": "ipython",
    "version": 3
   },
   "file_extension": ".py",
   "mimetype": "text/x-python",
   "name": "python",
   "nbconvert_exporter": "python",
   "pygments_lexer": "ipython3",
   "version": "3.7.4"
  }
 },
 "nbformat": 4,
 "nbformat_minor": 2
}
